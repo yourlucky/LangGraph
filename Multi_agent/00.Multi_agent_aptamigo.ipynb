{
 "cells": [
  {
   "cell_type": "code",
   "execution_count": 1,
   "metadata": {},
   "outputs": [],
   "source": [
    "# Load API_key from .env file\n",
    "from config_loader import ConfigLoader\n",
    "config = ConfigLoader()"
   ]
  },
  {
   "cell_type": "code",
   "execution_count": 2,
   "metadata": {},
   "outputs": [],
   "source": [
    "from langgraph.graph import MessagesState"
   ]
  },
  {
   "cell_type": "code",
   "execution_count": 3,
   "metadata": {},
   "outputs": [],
   "source": [
    "# The agent state is the input to each node in the graph\n",
    "class AgentState(MessagesState):\n",
    "    # The 'next' field indicates where to route to next\n",
    "    next: str"
   ]
  },
  {
   "cell_type": "code",
   "execution_count": 4,
   "metadata": {},
   "outputs": [],
   "source": [
    "from typing import Literal\n",
    "from typing_extensions import TypedDict\n",
    "\n",
    "from langchain_anthropic import ChatAnthropic\n",
    "\n",
    "\n",
    "members = [\"BudgetRecorder\", \"RoomRecorder\"]\n",
    "# Our team supervisor is an LLM node. It just picks the next agent to process\n",
    "# and decides when the work is completed\n",
    "options = members + [\"FINISH\"]\n",
    "\n",
    "system_prompt = (\n",
    "    'You are an AptAmigo representative. AptAmigo is one of the leading real estate agencies in the United States. '\n",
    "    'Your role is to engage with clients, build rapport, and make the conversation enjoyable while gathering their budget and preferred number of rooms. '\n",
    "    '- When the client shares budget information, relay it to the \"Budget Recorder\". '\n",
    "    '- When clients mention their preferred number of rooms, relay it to the \"Room Recorder\". '\n",
    "    'When finished, respond with FINISH.'\n",
    ")\n",
    "\n",
    "\n",
    "class Router(TypedDict):\n",
    "    \"\"\"Worker to route to next.\"\"\"\n",
    "\n",
    "    next: Literal[*options]\n",
    "\n",
    "\n",
    "llm = ChatAnthropic(model=\"claude-3-5-sonnet-latest\")\n",
    "\n",
    "\n",
    "def RealEstateAgent_node(state: AgentState) -> AgentState:\n",
    "    messages = [\n",
    "        {\"role\": \"system\", \"content\": system_prompt},\n",
    "    ] + state[\"messages\"]\n",
    "    response = llm.with_structured_output(Router).invoke(messages)\n",
    "    next_ = response[\"next\"]\n",
    "    if next_ == \"FINISH\":\n",
    "        next_ = END\n",
    "\n",
    "    return {\"next\": next_}"
   ]
  },
  {
   "cell_type": "code",
   "execution_count": 5,
   "metadata": {},
   "outputs": [
    {
     "data": {
      "text/plain": [
       "<langgraph.graph.state.StateGraph at 0x112102910>"
      ]
     },
     "execution_count": 5,
     "metadata": {},
     "output_type": "execute_result"
    }
   ],
   "source": [
    "from langchain_core.messages import HumanMessage\n",
    "from langgraph.graph import StateGraph, START, END\n",
    "from langgraph.prebuilt import create_react_agent\n",
    "\n",
    "\n",
    "BudgetRecorder = create_react_agent(\n",
    "    llm,\n",
    "    tools=[],\n",
    "    state_modifier=(\n",
    "        \"You are a Budget Recorder. Your task is to extract the maximum budget from the user's input \"\n",
    "        \"and provide the output in JSON format as follows:\\n\\n\"\n",
    "        \"Output Format:\\n\"\n",
    "        \"{\\n\"\n",
    "        \"  \\\"Budget\\\": {\\n\"\n",
    "        \"    \\\"max\\\": maximum_budget\\n\"\n",
    "        \"  },\\n\"\n",
    "        \"  \\\"original_input\\\": \\\"[original_user_sentence]\\\"\\n\"\n",
    "        \"}\\n\\n\"\n",
    "        \"Rules:\\n\"\n",
    "        \"- Extract the maximum budget as an integer from the input.\\n\"\n",
    "        \"- Use the exact budget range or highest value mentioned in the input.\\n\"\n",
    "        \"- Do not add any additional interpretations or assumptions.\\n\"\n",
    "        \"- Ensure the output is a valid JSON object.\\n\\n\"\n",
    "        \"Examples:\\n\"\n",
    "        \"Input: I can afford between $2,000 and $3,000 per month.\\n\"\n",
    "        \"Output: {\\n\"\n",
    "        \"  \\\"Budget\\\": {\\n\"\n",
    "        \"    \\\"max\\\": 3000\\n\"\n",
    "        \"  },\\n\"\n",
    "        \"  \\\"original_input\\\": \\\"I can afford between $2,000 and $3,000 per month.\\\"\\n\"\n",
    "        \"}\\n\\n\"\n",
    "        \"Input: My budget is around $1500.\\n\"\n",
    "        \"Output: {\\n\"\n",
    "        \"  \\\"Budget\\\": {\\n\"\n",
    "        \"    \\\"max\\\": 1500\\n\"\n",
    "        \"  },\\n\"\n",
    "        \"  \\\"original_input\\\": \\\"My budget is around $1500.\\\"\\n\"\n",
    "        \"}\\n\\n\"\n",
    "        \"Input: I don't want to spend more than $4,500 per month.\\n\"\n",
    "        \"Output: {\\n\"\n",
    "        \"  \\\"Budget\\\": {\\n\"\n",
    "        \"    \\\"max\\\": 4500\\n\"\n",
    "        \"  },\\n\"\n",
    "        \"  \\\"original_input\\\": \\\"I don't want to spend more than $4,500 per month.\\\"\\n\"\n",
    "        \"}\\n\\n\"\n",
    "        \"Input: My budget range is $2,500 to $3,500.\\n\"\n",
    "        \"Output: {\\n\"\n",
    "        \"  \\\"Budget\\\": {\\n\"\n",
    "        \"    \\\"max\\\": 3500\\n\"\n",
    "        \"  },\\n\"\n",
    "        \"  \\\"original_input\\\": \\\"My budget range is $2,500 to $3,500.\\\"\\n\"\n",
    "        \"}\\n\\n\"\n",
    "        \"Ensure all outputs strictly follow this JSON format.\"\n",
    "    )\n",
    ")\n",
    "\n",
    "\n",
    "def budget_node(state: AgentState) -> AgentState:\n",
    "    result = BudgetRecorder.invoke(state)\n",
    "    return {\n",
    "        \"messages\": [\n",
    "            HumanMessage(content=result[\"messages\"][-1].content, name=\"BudgetRecorder\")\n",
    "        ]\n",
    "    }\n",
    "\n",
    "RoomRecorder = create_react_agent(\n",
    "    llm,\n",
    "    tools=[],\n",
    "    state_modifier=\n",
    "        \"You are a Room Recorder. Your task is to extract the minimum and maximum number \"\n",
    "        \"of rooms mentioned in the user's input and format the output as follows:\\n\\n\"\n",
    "        \"Output Format:\\n\"\n",
    "        \"{\\n\"\n",
    "        \"  \\\"Room\\\": {\\n\"\n",
    "        \"    \\\"minimum\\\": minimum_rooms,\\n\"\n",
    "        \"    \\\"maximum\\\": maximum_rooms\\n\"\n",
    "        \"  },\\n\"\n",
    "        \"  \\\"original_input\\\": \\\"[original_user_sentence]\\\"\\n\"\n",
    "        \"}\\n\\n\"\n",
    "        \"Rules:\\n\"\n",
    "        \"- Extract integers from the input to determine \\\"minimum\\\" and \\\"maximum\\\".\\n\"\n",
    "        \"- If only one number is provided, use it for both \\\"minimum\\\" and \\\"maximum\\\".\\n\"\n",
    "        \"- Do not interpret beyond the provided data.\\n\\n\"\n",
    "        \"Examples:\\n\"\n",
    "        \"Input: I want a house with 2 to 3 rooms.\\n\"\n",
    "        \"Output: {\\n\"\n",
    "        \"  \\\"Room\\\": {\\n\"\n",
    "        \"    \\\"minimum\\\": 2,\\n\"\n",
    "        \"    \\\"maximum\\\": 3\\n\"\n",
    "        \"  },\\n\"\n",
    "        \"  \\\"original_input\\\": \\\"I want a house with 2 to 3 rooms.\\\"\\n\"\n",
    "        \"}\\n\\n\"\n",
    "        \"Input: I need at least 1 room.\\n\"\n",
    "        \"Output: {\\n\"\n",
    "        \"  \\\"Room\\\": {\\n\"\n",
    "        \"    \\\"minimum\\\": 1,\\n\"\n",
    "        \"    \\\"maximum\\\": 1\\n\"\n",
    "        \"  },\\n\"\n",
    "        \"  \\\"original_input\\\": \\\"I need at least 1 room.\\\"\\n\"\n",
    "        \"}\\n\\n\"\n",
    "        \"Input: I would prefer a house with more than 4 rooms.\\n\"\n",
    "        \"Output: {\\n\"\n",
    "        \"  \\\"Room\\\": {\\n\"\n",
    "        \"    \\\"minimum\\\": 4,\\n\"\n",
    "        \"    \\\"maximum\\\": 4\\n\"\n",
    "        \"  },\\n\"\n",
    "        \"  \\\"original_input\\\": \\\"I would prefer a house with more than 4 rooms.\\\"\\n\"\n",
    "        \"}\\n\\n\"\n",
    "        \"Input: I need a house with a minimum of 1 room and a maximum of 5 rooms.\\n\"\n",
    "        \"Output: {\\n\"\n",
    "        \"  \\\"Room\\\": {\\n\"\n",
    "        \"    \\\"minimum\\\": 1,\\n\"\n",
    "        \"    \\\"maximum\\\": 5\\n\"\n",
    "        \"  },\\n\"\n",
    "        \"  \\\"original_input\\\": \\\"I need a house with a minimum of 1 room and a maximum of 5 rooms.\\\"\\n\"\n",
    "        \"}\\n\\n\"\n",
    "        \"Follow these rules and examples strictly for all inputs.\"\n",
    ")\n",
    "\n",
    "def room_node(state: AgentState) -> AgentState:\n",
    "    result = RoomRecorder.invoke(state)\n",
    "    return {\n",
    "        \"messages\": [\n",
    "            HumanMessage(content=result[\"messages\"][-1].content, name=\"RoomRecorder\")\n",
    "        ]\n",
    "    }\n",
    "\n",
    "builder = StateGraph(AgentState)\n",
    "builder.add_edge(START, \"RealEstateAgent\")\n",
    "builder.add_node(\"RealEstateAgent\", RealEstateAgent_node)\n",
    "builder.add_node(\"BudgetRecorder\", budget_node)\n",
    "builder.add_node(\"RoomRecorder\", room_node)"
   ]
  },
  {
   "cell_type": "code",
   "execution_count": 6,
   "metadata": {},
   "outputs": [],
   "source": [
    "#for member in members:\n",
    "    # We want our workers to ALWAYS \"report back\" to the supervisor when done\n",
    "    #builder.add_edge(member, \"RealEstateAgent\")\n",
    "\n",
    "# The supervisor populates the \"next\" field in the graph state\n",
    "# which routes to a node or finishes\n",
    "builder.add_conditional_edges(\"RealEstateAgent\", lambda state: state[\"next\"])\n",
    "# Finally, add entrypoint\n",
    "builder.add_edge(START, \"RealEstateAgent\")\n",
    "builder.add_edge('BudgetRecorder',END)\n",
    "builder.add_edge('RoomRecorder',END)\n",
    "\n",
    "\n",
    "graph = builder.compile()"
   ]
  },
  {
   "cell_type": "code",
   "execution_count": 7,
   "metadata": {},
   "outputs": [],
   "source": [
    "from IPython.display import display, Image"
   ]
  },
  {
   "cell_type": "code",
   "execution_count": 8,
   "metadata": {},
   "outputs": [
    {
     "data": {
      "image/png": "[encoded data removed]",
      "text/plain": [
       "<IPython.core.display.Image object>"
      ]
     },
     "metadata": {},
     "output_type": "display_data"
    }
   ],
   "source": [
    "display(Image(graph.get_graph().draw_mermaid_png()))"
   ]
  },
  {
   "cell_type": "code",
   "execution_count": 9,
   "metadata": {},
   "outputs": [
    {
     "name": "stdout",
     "output_type": "stream",
     "text": [
      "((), {'RealEstateAgent': {'next': 'BudgetRecorder'}})\n",
      "----\n",
      "(('BudgetRecorder:e67556b2-d806-84f8-955f-013b12c0f63f',), {'agent': {'messages': [AIMessage(content='{\\n  \"Budget\": {\\n    \"max\": 2000\\n  },\\n  \"original_input\": \"I can afford up to $2000 per month.\"\\n}', additional_kwargs={}, response_metadata={'id': 'msg_019wq7j88pFx6mVCEGeZDXhJ', 'model': 'claude-3-5-sonnet-20241022', 'stop_reason': 'end_turn', 'stop_sequence': None, 'usage': {'input_tokens': 408, 'output_tokens': 43}}, id='run-dfa572e6-0232-4552-8cf5-a74fa5e57dc4-0', usage_metadata={'input_tokens': 408, 'output_tokens': 43, 'total_tokens': 451, 'input_token_details': {}})]}})\n",
      "----\n",
      "((), {'BudgetRecorder': {'messages': [HumanMessage(content='{\\n  \"Budget\": {\\n    \"max\": 2000\\n  },\\n  \"original_input\": \"I can afford up to $2000 per month.\"\\n}', additional_kwargs={}, response_metadata={}, name='BudgetRecorder')]}})\n",
      "----\n"
     ]
    }
   ],
   "source": [
    "for s in graph.stream(\n",
    "    {\"messages\": [(\"user\", \"I can afford up to $2000 per month.\")]}, subgraphs=True\n",
    "):\n",
    "    print(s)\n",
    "    print(\"----\")"
   ]
  },
  {
   "cell_type": "code",
   "execution_count": 10,
   "metadata": {},
   "outputs": [
    {
     "name": "stdout",
     "output_type": "stream",
     "text": [
      "((), {'RealEstateAgent': {'next': 'RoomRecorder'}})\n",
      "----\n",
      "(('RoomRecorder:8b604ca9-9ce2-b49f-1975-4a58eeea96c8',), {'agent': {'messages': [AIMessage(content='{\\n  \"Room\": {\\n    \"minimum\": 3,\\n    \"maximum\": 3\\n  },\\n  \"original_input\": \"I would like a three-bedroom property with sunshine\"\\n}', additional_kwargs={}, response_metadata={'id': 'msg_01UC8gnW9LZhdKW7LpuuEEcg', 'model': 'claude-3-5-sonnet-20241022', 'stop_reason': 'end_turn', 'stop_sequence': None, 'usage': {'input_tokens': 439, 'output_tokens': 49}}, id='run-1ce53392-c825-4c5e-9e01-b1e6002c1844-0', usage_metadata={'input_tokens': 439, 'output_tokens': 49, 'total_tokens': 488, 'input_token_details': {}})]}})\n",
      "----\n",
      "((), {'RoomRecorder': {'messages': [HumanMessage(content='{\\n  \"Room\": {\\n    \"minimum\": 3,\\n    \"maximum\": 3\\n  },\\n  \"original_input\": \"I would like a three-bedroom property with sunshine\"\\n}', additional_kwargs={}, response_metadata={}, name='RoomRecorder')]}})\n",
      "----\n"
     ]
    }
   ],
   "source": [
    "for s in graph.stream(\n",
    "    {\n",
    "        \"messages\": [\n",
    "            (\n",
    "                \"user\",\n",
    "                \"I would like a three-bedroom property with sunshine\",\n",
    "            )\n",
    "        ]\n",
    "    },\n",
    "    subgraphs=True,\n",
    "):\n",
    "    print(s)\n",
    "    print(\"----\")"
   ]
  },
  {
   "cell_type": "code",
   "execution_count": 13,
   "metadata": {},
   "outputs": [
    {
     "name": "stdout",
     "output_type": "stream",
     "text": [
      "((), {'RealEstateAgent': {'next': '__end__'}})\n",
      "----\n"
     ]
    }
   ],
   "source": [
    "for s in graph.stream(\n",
    "    {\n",
    "        \"messages\": [\n",
    "            (\n",
    "                \"user\",\n",
    "                \"I like baseball\",\n",
    "            )\n",
    "        ]\n",
    "    },\n",
    "    subgraphs=True,\n",
    "):\n",
    "    print(s)\n",
    "    print(\"----\")"
   ]
  },
  {
   "cell_type": "code",
   "execution_count": null,
   "metadata": {},
   "outputs": [],
   "source": []
  }
 ],
 "metadata": {
  "kernelspec": {
   "display_name": "TheSecond",
   "language": "python",
   "name": "thesecond"
  },
  "language_info": {
   "codemirror_mode": {
    "name": "ipython",
    "version": 3
   },
   "file_extension": ".py",
   "mimetype": "text/x-python",
   "name": "python",
   "nbconvert_exporter": "python",
   "pygments_lexer": "ipython3",
   "version": "3.11.9"
  }
 },
 "nbformat": 4,
 "nbformat_minor": 4
}
