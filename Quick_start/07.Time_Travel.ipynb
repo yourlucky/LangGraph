{
 "cells": [
  {
   "cell_type": "code",
   "execution_count": 1,
   "metadata": {},
   "outputs": [],
   "source": [
    "# Load API_key from .env file\n",
    "from config_loader import ConfigLoader\n",
    "config = ConfigLoader()"
   ]
  },
  {
   "cell_type": "code",
   "execution_count": 2,
   "metadata": {},
   "outputs": [],
   "source": [
    "from typing import Annotated, Literal\n",
    "\n",
    "from langchain_anthropic import ChatAnthropic\n",
    "from langchain_community.tools.tavily_search import TavilySearchResults\n",
    "from langchain_core.messages import AIMessage, ToolMessage\n",
    "\n",
    "# NOTE: you must use langchain-core >= 0.3 with Pydantic v2\n",
    "from pydantic import BaseModel\n",
    "from typing_extensions import TypedDict\n",
    "\n",
    "from langgraph.checkpoint.memory import MemorySaver\n",
    "from langgraph.graph import StateGraph, START, END\n",
    "from langgraph.graph.message import add_messages\n",
    "from langgraph.prebuilt import ToolNode, tools_condition\n",
    "\n",
    "\n",
    "class State(TypedDict):\n",
    "    messages: Annotated[list, add_messages]\n",
    "    # This flag is new\n",
    "    ask_human: bool\n",
    "\n",
    "\n",
    "class RequestAssistance(BaseModel):\n",
    "    \"\"\"Escalate the conversation to an expert. Use this if you are unable to assist directly or if the user requires support beyond your permissions.\n",
    "\n",
    "    To use this function, relay the user's 'request' so the expert can provide the right guidance.\n",
    "    \"\"\"\n",
    "\n",
    "    request: str\n",
    "\n",
    "\n",
    "tool = TavilySearchResults(max_results=2)\n",
    "tools = [tool]\n",
    "llm = ChatAnthropic(model=\"claude-3-5-sonnet-20240620\")\n",
    "# We can bind the llm to a tool definition, a pydantic model, or a json schema\n",
    "llm_with_tools = llm.bind_tools(tools + [RequestAssistance])\n",
    "\n",
    "\n",
    "def chatbot(state: State):\n",
    "    response = llm_with_tools.invoke(state[\"messages\"])\n",
    "    ask_human = False\n",
    "    if (\n",
    "        response.tool_calls\n",
    "        and response.tool_calls[0][\"name\"] == RequestAssistance.__name__\n",
    "    ):\n",
    "        ask_human = True\n",
    "    return {\"messages\": [response], \"ask_human\": ask_human}\n",
    "\n",
    "\n",
    "graph_builder = StateGraph(State)\n",
    "\n",
    "graph_builder.add_node(\"chatbot\", chatbot)\n",
    "graph_builder.add_node(\"tools\", ToolNode(tools=[tool]))\n",
    "\n",
    "\n",
    "def create_response(response: str, ai_message: AIMessage):\n",
    "    return ToolMessage(\n",
    "        content=response,\n",
    "        tool_call_id=ai_message.tool_calls[0][\"id\"],\n",
    "    )\n",
    "\n",
    "\n",
    "def human_node(state: State):\n",
    "    new_messages = []\n",
    "    if not isinstance(state[\"messages\"][-1], ToolMessage):\n",
    "        # Typically, the user will have updated the state during the interrupt.\n",
    "        # If they choose not to, we will include a placeholder ToolMessage to\n",
    "        # let the LLM continue.\n",
    "        new_messages.append(\n",
    "            create_response(\"No response from human.\", state[\"messages\"][-1])\n",
    "        )\n",
    "    return {\n",
    "        # Append the new messages\n",
    "        \"messages\": new_messages,\n",
    "        # Unset the flag\n",
    "        \"ask_human\": False,\n",
    "    }\n",
    "\n",
    "\n",
    "graph_builder.add_node(\"human\", human_node)\n",
    "\n",
    "\n",
    "def select_next_node(state: State):\n",
    "    if state[\"ask_human\"]:\n",
    "        return \"human\"\n",
    "    # Otherwise, we can route as before\n",
    "    return tools_condition(state)\n",
    "\n",
    "\n",
    "graph_builder.add_conditional_edges(\n",
    "    \"chatbot\",\n",
    "    select_next_node,\n",
    "    {\"human\": \"human\", \"tools\": \"tools\", END: END},\n",
    ")\n",
    "graph_builder.add_edge(\"tools\", \"chatbot\")\n",
    "graph_builder.add_edge(\"human\", \"chatbot\")\n",
    "graph_builder.add_edge(START, \"chatbot\")\n",
    "memory = MemorySaver()\n",
    "graph = graph_builder.compile(\n",
    "    checkpointer=memory,\n",
    "    interrupt_before=[\"human\"],\n",
    ")"
   ]
  },
  {
   "cell_type": "code",
   "execution_count": 3,
   "metadata": {},
   "outputs": [
    {
     "name": "stdout",
     "output_type": "stream",
     "text": [
      "================================\u001b[1m Human Message \u001b[0m=================================\n",
      "\n",
      "I'm learning LangGraph. Could you do some research on it for me?\n",
      "==================================\u001b[1m Ai Message \u001b[0m==================================\n",
      "\n",
      "[{'text': \"Certainly! I'd be happy to research LangGraph for you. To get the most up-to-date and accurate information, I'll use the Tavily search engine to look this up. Let me do that for you now.\", 'type': 'text'}, {'id': 'toolu_01ReiwvJbCYyCbJ9FJL4oNg7', 'input': {'query': 'LangGraph programming framework details and usage'}, 'name': 'tavily_search_results_json', 'type': 'tool_use'}]\n",
      "Tool Calls:\n",
      "  tavily_search_results_json (toolu_01ReiwvJbCYyCbJ9FJL4oNg7)\n",
      " Call ID: toolu_01ReiwvJbCYyCbJ9FJL4oNg7\n",
      "  Args:\n",
      "    query: LangGraph programming framework details and usage\n",
      "=================================\u001b[1m Tool Message \u001b[0m=================================\n",
      "Name: tavily_search_results_json\n",
      "\n",
      "[{\"url\": \"https://www.langchain.com/langgraph\", \"content\": \"LangGraph's flexible framework supports diverse control flows - single agent, multi-agent, hierarchical, sequential - and robustly handles realistic, complex scenarios. Ensure reliability with easy-to-add moderation and quality loops that prevent agents from veering off course. Use LangGraph Platform to templatize your cognitive\"}, {\"url\": \"https://github.com/langchain-ai/langgraph\", \"content\": \"GitHub - langchain-ai/langgraph: Build resilient language agents as graphs. LangGraph Platform is a commercial solution for deploying agentic applications to production, built on the open-source LangGraph framework. Let's take a look at a simple example of an agent that can use a search tool. # Define the tools for the agent to use # This means that after `tools` is called, `agent` node is called next. workflow.add_edge(\\\"tools\\\", 'agent') Define entry point and graph edges.First, we need to set the entry point for graph execution - agent node. Normal edge: after the tools are invoked, the graph should always return to the agent to decide what to do next LangGraph adds the input message to the internal state, then passes the state to the entrypoint node, \\\"agent\\\".\"}]\n",
      "==================================\u001b[1m Ai Message \u001b[0m==================================\n",
      "\n",
      "Thank you for your patience. I've researched LangGraph for you, and I'm happy to share what I've found. LangGraph is an innovative programming framework designed for building advanced language agents. Here's a summary of the key points:\n",
      "\n",
      "1. Purpose: LangGraph is used to create resilient and flexible language agents as graphs.\n",
      "\n",
      "2. Features:\n",
      "   - Supports diverse control flows: single agent, multi-agent, hierarchical, and sequential.\n",
      "   - Handles complex, realistic scenarios robustly.\n",
      "   - Allows easy addition of moderation and quality loops to prevent agents from going off-course.\n",
      "\n",
      "3. Framework Structure:\n",
      "   - It's based on a graph structure where different components (nodes) of the agent are connected by edges.\n",
      "   - The framework defines entry points and graph edges to control the flow of execution.\n",
      "\n",
      "4. Tools and Agents:\n",
      "   - LangGraph allows you to define tools for agents to use.\n",
      "   - It has a workflow that typically involves calling tools and then returning to the agent to decide the next action.\n",
      "\n",
      "5. State Management:\n",
      "   - LangGraph adds input messages to an internal state, which is then passed to the entry point node (usually the \"agent\" node).\n",
      "\n",
      "6. Open-Source and Commercial Versions:\n",
      "   - There's an open-source LangGraph framework available on GitHub.\n",
      "   - LangGraph Platform is a commercial solution for deploying agentic applications to production, built on top of the open-source framework.\n",
      "\n",
      "7. Integration:\n",
      "   - It seems to be related to or part of the LangChain ecosystem, as evidenced by the LangChain.com domain and GitHub repository.\n",
      "\n",
      "8. Example Usage:\n",
      "   - A simple example mentioned involves creating an agent that can use a search tool.\n",
      "\n",
      "To start learning LangGraph, you might want to:\n",
      "1. Check out the GitHub repository (https://github.com/langchain-ai/langgraph) for documentation and examples.\n",
      "2. Explore the LangChain website (https://www.langchain.com/langgraph) for more details on its capabilities and use cases.\n",
      "3. Try building a simple agent using the framework, starting with the search tool example mentioned in the documentation.\n",
      "\n",
      "Would you like more information on any specific aspect of LangGraph, or do you have any questions about how to get started with it?\n"
     ]
    }
   ],
   "source": [
    "config = {\"configurable\": {\"thread_id\": \"1\"}}\n",
    "events = graph.stream(\n",
    "    {\n",
    "        \"messages\": [\n",
    "            (\"user\", \"I'm learning LangGraph. Could you do some research on it for me?\")\n",
    "        ]\n",
    "    },\n",
    "    config,\n",
    "    stream_mode=\"values\",\n",
    ")\n",
    "for event in events:\n",
    "    if \"messages\" in event:\n",
    "        event[\"messages\"][-1].pretty_print()"
   ]
  },
  {
   "cell_type": "code",
   "execution_count": 6,
   "metadata": {},
   "outputs": [
    {
     "name": "stdout",
     "output_type": "stream",
     "text": [
      "================================\u001b[1m Human Message \u001b[0m=================================\n",
      "\n",
      "Ya that's helpful. Maybe I'll build an autonomous agent with it!\n",
      "==================================\u001b[1m Ai Message \u001b[0m==================================\n",
      "\n",
      "I apologize for the confusion, but it seems you've repeated your previous statement. Since we've already discussed building an autonomous agent with LangGraph, perhaps you'd like to move forward with more specific aspects of your project or explore some concrete ideas? \n",
      "\n",
      "To help guide our conversation in a productive direction, I could:\n",
      "\n",
      "1. Suggest some specific autonomous agent project ideas that are well-suited for beginners using LangGraph.\n",
      "2. Discuss the first steps you might take to set up your development environment for LangGraph.\n",
      "3. Explore potential features or capabilities you might want to include in your autonomous agent.\n",
      "4. Provide resources for learning more about the technical aspects of LangGraph implementation.\n",
      "\n",
      "Which of these would be most helpful to you right now, or is there another aspect of building an autonomous agent with LangGraph that you'd like to discuss?\n"
     ]
    }
   ],
   "source": [
    "#정상적으로 종료된 문답에 추가 휴먼메세지 입력\n",
    "events = graph.stream(\n",
    "    {\n",
    "        \"messages\": [\n",
    "            (\"user\", \"Ya that's helpful. Maybe I'll build an autonomous agent with it!\")\n",
    "        ]\n",
    "    },\n",
    "    config,\n",
    "    stream_mode=\"values\",\n",
    ")\n",
    "for event in events:\n",
    "    if \"messages\" in event:\n",
    "        event[\"messages\"][-1].pretty_print()"
   ]
  },
  {
   "cell_type": "code",
   "execution_count": 5,
   "metadata": {},
   "outputs": [
    {
     "name": "stdout",
     "output_type": "stream",
     "text": [
      "Num Messages:  8 Next:  ()\n",
      "--------------------------------------------------------------------------------\n",
      "Num Messages:  7 Next:  ('chatbot',)\n",
      "--------------------------------------------------------------------------------\n",
      "Num Messages:  6 Next:  ('tools',)\n",
      "--------------------------------------------------------------------------------\n",
      "Num Messages:  5 Next:  ('chatbot',)\n",
      "--------------------------------------------------------------------------------\n",
      "Num Messages:  4 Next:  ('__start__',)\n",
      "--------------------------------------------------------------------------------\n",
      "Num Messages:  4 Next:  ()\n",
      "--------------------------------------------------------------------------------\n",
      "Num Messages:  3 Next:  ('chatbot',)\n",
      "--------------------------------------------------------------------------------\n",
      "Num Messages:  2 Next:  ('tools',)\n",
      "--------------------------------------------------------------------------------\n",
      "Num Messages:  1 Next:  ('chatbot',)\n",
      "--------------------------------------------------------------------------------\n",
      "Num Messages:  0 Next:  ('__start__',)\n",
      "--------------------------------------------------------------------------------\n"
     ]
    }
   ],
   "source": [
    "#graph.get_state(config).values[\"messages\"]\n",
    "#지금까지의 state 나열하고 돌아가고 싶은곳을 to_replay로 지정\n",
    "to_replay = None\n",
    "for state in graph.get_state_history(config):\n",
    "    print(\"Num Messages: \", len(state.values[\"messages\"]), \"Next: \", state.next)\n",
    "    print(\"-\" * 80)\n",
    "    if len(state.values[\"messages\"]) == 6:\n",
    "        # We are somewhat arbitrarily selecting a specific state based on the number of chat messages in the state.\n",
    "        to_replay = state\n"
   ]
  },
  {
   "cell_type": "code",
   "execution_count": 7,
   "metadata": {},
   "outputs": [
    {
     "name": "stdout",
     "output_type": "stream",
     "text": [
      "('tools',)\n",
      "{'configurable': {'thread_id': '1', 'checkpoint_ns': '', 'checkpoint_id': '1efa8470-92ba-6d06-8006-e4cd27e1fb8c'}}\n"
     ]
    }
   ],
   "source": [
    "#to_replay 확인차원 출력\n",
    "print(to_replay.next)\n",
    "print(to_replay.config)"
   ]
  },
  {
   "cell_type": "code",
   "execution_count": 10,
   "metadata": {},
   "outputs": [
    {
     "data": {
      "text/plain": [
       "[HumanMessage(content=\"I'm learning LangGraph. Could you do some research on it for me?\", additional_kwargs={}, response_metadata={}, id='fc9ab8b8-2b05-4ccb-9ccd-8a0e1a3f6933'),\n",
       " AIMessage(content=[{'text': \"Certainly! I'd be happy to research LangGraph for you. To get the most up-to-date and accurate information, I'll use the Tavily search engine to look this up. Let me do that for you now.\", 'type': 'text'}, {'id': 'toolu_01ReiwvJbCYyCbJ9FJL4oNg7', 'input': {'query': 'LangGraph programming framework details and usage'}, 'name': 'tavily_search_results_json', 'type': 'tool_use'}], additional_kwargs={}, response_metadata={'id': 'msg_016t4e3hB5qY1wdrbWTiEWGS', 'model': 'claude-3-5-sonnet-20240620', 'stop_reason': 'tool_use', 'stop_sequence': None, 'usage': {'input_tokens': 515, 'output_tokens': 116}}, id='run-a1ac3630-56c6-4d1d-b9a8-e6078d368920-0', tool_calls=[{'name': 'tavily_search_results_json', 'args': {'query': 'LangGraph programming framework details and usage'}, 'id': 'toolu_01ReiwvJbCYyCbJ9FJL4oNg7', 'type': 'tool_call'}], usage_metadata={'input_tokens': 515, 'output_tokens': 116, 'total_tokens': 631, 'input_token_details': {}}),\n",
       " ToolMessage(content='[{\"url\": \"https://www.langchain.com/langgraph\", \"content\": \"LangGraph\\'s flexible framework supports diverse control flows - single agent, multi-agent, hierarchical, sequential - and robustly handles realistic, complex scenarios. Ensure reliability with easy-to-add moderation and quality loops that prevent agents from veering off course. Use LangGraph Platform to templatize your cognitive\"}, {\"url\": \"https://github.com/langchain-ai/langgraph\", \"content\": \"GitHub - langchain-ai/langgraph: Build resilient language agents as graphs. LangGraph Platform is a commercial solution for deploying agentic applications to production, built on the open-source LangGraph framework. Let\\'s take a look at a simple example of an agent that can use a search tool. # Define the tools for the agent to use # This means that after `tools` is called, `agent` node is called next. workflow.add_edge(\\\\\"tools\\\\\", \\'agent\\') Define entry point and graph edges.First, we need to set the entry point for graph execution - agent node. Normal edge: after the tools are invoked, the graph should always return to the agent to decide what to do next LangGraph adds the input message to the internal state, then passes the state to the entrypoint node, \\\\\"agent\\\\\".\"}]', name='tavily_search_results_json', id='cbc5cdeb-9a27-42ce-8ba8-d6c0565ae2cc', tool_call_id='toolu_01ReiwvJbCYyCbJ9FJL4oNg7', artifact={'query': 'LangGraph programming framework details and usage', 'follow_up_questions': None, 'answer': None, 'images': [], 'results': [{'title': 'LangGraph - LangChain', 'url': 'https://www.langchain.com/langgraph', 'content': \"LangGraph's flexible framework supports diverse control flows - single agent, multi-agent, hierarchical, sequential - and robustly handles realistic, complex scenarios. Ensure reliability with easy-to-add moderation and quality loops that prevent agents from veering off course. Use LangGraph Platform to templatize your cognitive\", 'score': 0.996557, 'raw_content': None}, {'title': 'langchain-ai/langgraph: Build resilient language agents as graphs. - GitHub', 'url': 'https://github.com/langchain-ai/langgraph', 'content': 'GitHub - langchain-ai/langgraph: Build resilient language agents as graphs. LangGraph Platform is a commercial solution for deploying agentic applications to production, built on the open-source LangGraph framework. Let\\'s take a look at a simple example of an agent that can use a search tool. # Define the tools for the agent to use # This means that after `tools` is called, `agent` node is called next. workflow.add_edge(\"tools\", \\'agent\\') Define entry point and graph edges.First, we need to set the entry point for graph execution - agent node. Normal edge: after the tools are invoked, the graph should always return to the agent to decide what to do next LangGraph adds the input message to the internal state, then passes the state to the entrypoint node, \"agent\".', 'score': 0.9923934, 'raw_content': None}], 'response_time': 2.28}),\n",
       " AIMessage(content='Thank you for your patience. I\\'ve researched LangGraph for you, and I\\'m happy to share what I\\'ve found. LangGraph is an innovative programming framework designed for building advanced language agents. Here\\'s a summary of the key points:\\n\\n1. Purpose: LangGraph is used to create resilient and flexible language agents as graphs.\\n\\n2. Features:\\n   - Supports diverse control flows: single agent, multi-agent, hierarchical, and sequential.\\n   - Handles complex, realistic scenarios robustly.\\n   - Allows easy addition of moderation and quality loops to prevent agents from going off-course.\\n\\n3. Framework Structure:\\n   - It\\'s based on a graph structure where different components (nodes) of the agent are connected by edges.\\n   - The framework defines entry points and graph edges to control the flow of execution.\\n\\n4. Tools and Agents:\\n   - LangGraph allows you to define tools for agents to use.\\n   - It has a workflow that typically involves calling tools and then returning to the agent to decide the next action.\\n\\n5. State Management:\\n   - LangGraph adds input messages to an internal state, which is then passed to the entry point node (usually the \"agent\" node).\\n\\n6. Open-Source and Commercial Versions:\\n   - There\\'s an open-source LangGraph framework available on GitHub.\\n   - LangGraph Platform is a commercial solution for deploying agentic applications to production, built on top of the open-source framework.\\n\\n7. Integration:\\n   - It seems to be related to or part of the LangChain ecosystem, as evidenced by the LangChain.com domain and GitHub repository.\\n\\n8. Example Usage:\\n   - A simple example mentioned involves creating an agent that can use a search tool.\\n\\nTo start learning LangGraph, you might want to:\\n1. Check out the GitHub repository (https://github.com/langchain-ai/langgraph) for documentation and examples.\\n2. Explore the LangChain website (https://www.langchain.com/langgraph) for more details on its capabilities and use cases.\\n3. Try building a simple agent using the framework, starting with the search tool example mentioned in the documentation.\\n\\nWould you like more information on any specific aspect of LangGraph, or do you have any questions about how to get started with it?', additional_kwargs={}, response_metadata={'id': 'msg_01MdZRPUmSSXPBqctFBaWxtc', 'model': 'claude-3-5-sonnet-20240620', 'stop_reason': 'end_turn', 'stop_sequence': None, 'usage': {'input_tokens': 940, 'output_tokens': 523}}, id='run-f37907da-d67b-47a6-af2a-955792e8a675-0', usage_metadata={'input_tokens': 940, 'output_tokens': 523, 'total_tokens': 1463, 'input_token_details': {}}),\n",
       " HumanMessage(content=\"Ya that's helpful. Maybe I'll build an autonomous agent with it!\", additional_kwargs={}, response_metadata={}, id='d3415776-4fd7-4f4e-ab06-f475ae539b2f'),\n",
       " AIMessage(content=[{'text': \"That's an exciting idea! Building an autonomous agent with LangGraph is definitely a great way to dive into the framework and explore its capabilities. Given your interest in creating an autonomous agent, let me provide some additional insights and suggestions to help you get started.\", 'type': 'text'}, {'id': 'toolu_01KHrW7J4Se6zZaPcP24KA6A', 'input': {'query': 'building autonomous agents with LangGraph examples and best practices'}, 'name': 'tavily_search_results_json', 'type': 'tool_use'}], additional_kwargs={}, response_metadata={'id': 'msg_01NjxZSHgY9e7B8wPBrvEpaK', 'model': 'claude-3-5-sonnet-20240620', 'stop_reason': 'tool_use', 'stop_sequence': None, 'usage': {'input_tokens': 1481, 'output_tokens': 121}}, id='run-a1bf2d1b-3281-4af8-b298-50f227ef12c2-0', tool_calls=[{'name': 'tavily_search_results_json', 'args': {'query': 'building autonomous agents with LangGraph examples and best practices'}, 'id': 'toolu_01KHrW7J4Se6zZaPcP24KA6A', 'type': 'tool_call'}], usage_metadata={'input_tokens': 1481, 'output_tokens': 121, 'total_tokens': 1602, 'input_token_details': {}}),\n",
       " ToolMessage(content='[{\"url\": \"https://medium.com/coinmonks/a-step-by-step-guide-to-building-ai-agents-with-langgraph-6d21d6e6e34f\", \"content\": \"A Step-by-Step Guide to Building AI Agents with LangGraph | by Alannaelga | Coinmonks | Nov, 2024 | Medium LangGraph allows you to define workflows that include various tools and tasks that the AI agent can perform. LangGraph AI agents can function as virtual assistants, providing users with personalized support for various tasks, from scheduling to data management. Task Automation: AI agents can schedule meetings, set reminders, send emails, and even manage to-do lists, all while learning user preferences and optimizing workflows over time.\"}, {\"url\": \"https://medium.com/@lucas.dahan/hands-on-langgraph-building-a-multi-agent-assistant-06aa68ed942f\", \"content\": \"Building the Graph. With our agents defined, we\\'ll create a graph.py file to orchestrate their interactions. The basic graph structure in LangGraph is really simple, here we are going to use\"}]', name='tavily_search_results_json', id='fbf9779e-a621-4662-8c89-c1772a956760', tool_call_id='toolu_01KHrW7J4Se6zZaPcP24KA6A', artifact={'query': 'building autonomous agents with LangGraph examples and best practices', 'follow_up_questions': None, 'answer': None, 'images': [], 'results': [{'title': 'A Step-by-Step Guide to Building AI Agents with LangGraph', 'url': 'https://medium.com/coinmonks/a-step-by-step-guide-to-building-ai-agents-with-langgraph-6d21d6e6e34f', 'content': 'A Step-by-Step Guide to Building AI Agents with LangGraph | by Alannaelga | Coinmonks | Nov, 2024 | Medium LangGraph allows you to define workflows that include various tools and tasks that the AI agent can perform. LangGraph AI agents can function as virtual assistants, providing users with personalized support for various tasks, from scheduling to data management. Task Automation: AI agents can schedule meetings, set reminders, send emails, and even manage to-do lists, all while learning user preferences and optimizing workflows over time.', 'score': 0.9964342, 'raw_content': None}, {'title': 'Hands on LangGraph — Building a multi agent assistant', 'url': 'https://medium.com/@lucas.dahan/hands-on-langgraph-building-a-multi-agent-assistant-06aa68ed942f', 'content': \"Building the Graph. With our agents defined, we'll create a graph.py file to orchestrate their interactions. The basic graph structure in LangGraph is really simple, here we are going to use\", 'score': 0.98672616, 'raw_content': None}], 'response_time': 2.36}),\n",
       " AIMessage(content=\"That's great to hear that you're considering building an autonomous agent with LangGraph! It's an excellent way to apply what you've learned and explore the framework's capabilities. Based on the additional information I've found, here are some insights and tips to help you get started:\\n\\n1. Workflow Definition:\\n   LangGraph allows you to define workflows that include various tools and tasks for your AI agent to perform. This flexibility enables you to create a customized autonomous agent tailored to specific needs.\\n\\n2. Potential Applications:\\n   - Virtual Assistant: Your agent can provide personalized support for various tasks, from scheduling to data management.\\n   - Task Automation: Implement features like scheduling meetings, setting reminders, sending emails, or managing to-do lists. Over time, your agent can learn user preferences and optimize workflows.\\n\\n3. Multi-Agent Systems:\\n   LangGraph supports building multi-agent assistants, allowing you to create more complex systems with specialized agents working together.\\n\\n4. Graph Structure:\\n   - Create a separate file (e.g., graph.py) to define the structure of your agent's workflow.\\n   - The basic graph structure in LangGraph is relatively simple, making it easier to get started.\\n\\n5. Step-by-Step Approach:\\n   - Start by defining your agent(s) and their capabilities.\\n   - Create the graph structure to orchestrate the interactions between different components of your system.\\n   - Implement the necessary tools and tasks for your agent to use.\\n   - Define the workflow and decision-making process for your agent.\\n\\n6. Best Practices:\\n   - Begin with a simple use case and gradually expand your agent's capabilities.\\n   - Make use of LangGraph's moderation and quality loops to ensure your agent stays on track.\\n   - Test your agent thoroughly with various scenarios to ensure robust performance.\\n\\n7. Learning Resources:\\n   - The LangGraph GitHub repository (https://github.com/langchain-ai/langgraph) is an excellent source for examples and documentation.\\n   - Look for tutorials and guides online, such as the ones on Medium, which provide step-by-step instructions for building AI agents with LangGraph.\\n\\nTo get started, you might want to:\\n1. Define the primary purpose of your autonomous agent (e.g., personal assistant, data analyst, creative writer).\\n2. List the key tasks and capabilities you want your agent to have.\\n3. Set up your development environment with LangGraph.\\n4. Start with a basic implementation and iteratively add more features and complexity.\\n\\nRemember, building an autonomous agent is an iterative process. Start simple, test frequently, and gradually enhance your agent's capabilities as you become more comfortable with LangGraph.\\n\\nDo you have a specific type of autonomous agent in mind, or would you like suggestions for beginner-friendly project ideas using LangGraph?\", additional_kwargs={}, response_metadata={'id': 'msg_01C9DvNfsUCtpFVnLFKGPquL', 'model': 'claude-3-5-sonnet-20240620', 'stop_reason': 'end_turn', 'stop_sequence': None, 'usage': {'input_tokens': 1878, 'output_tokens': 626}}, id='run-5732fb2d-ce82-4180-99c4-76051c1d66a2-0', usage_metadata={'input_tokens': 1878, 'output_tokens': 626, 'total_tokens': 2504, 'input_token_details': {}}),\n",
       " HumanMessage(content=\"Ya that's helpful. Maybe I'll build an autonomous agent with it!\", additional_kwargs={}, response_metadata={}, id='9ec12661-fd05-4384-8505-4a04f39dff23'),\n",
       " AIMessage(content=\"I apologize for the confusion, but it seems you've repeated your previous statement. Since we've already discussed building an autonomous agent with LangGraph, perhaps you'd like to move forward with more specific aspects of your project or explore some concrete ideas? \\n\\nTo help guide our conversation in a productive direction, I could:\\n\\n1. Suggest some specific autonomous agent project ideas that are well-suited for beginners using LangGraph.\\n2. Discuss the first steps you might take to set up your development environment for LangGraph.\\n3. Explore potential features or capabilities you might want to include in your autonomous agent.\\n4. Provide resources for learning more about the technical aspects of LangGraph implementation.\\n\\nWhich of these would be most helpful to you right now, or is there another aspect of building an autonomous agent with LangGraph that you'd like to discuss?\", additional_kwargs={}, response_metadata={'id': 'msg_0127Kamjfqju7DZVkBQuig1A', 'model': 'claude-3-5-sonnet-20240620', 'stop_reason': 'end_turn', 'stop_sequence': None, 'usage': {'input_tokens': 2522, 'output_tokens': 187}}, id='run-82e79141-e077-4f73-834a-32e772737d8c-0', usage_metadata={'input_tokens': 2522, 'output_tokens': 187, 'total_tokens': 2709, 'input_token_details': {}})]"
      ]
     },
     "execution_count": 10,
     "metadata": {},
     "output_type": "execute_result"
    }
   ],
   "source": [
    "#12번 기존 출력한 message와 내용이 바뀐부분 파악 코드이해 완료!\n",
    "# Tavliy search에서 불러온 url이 바뀌었음 (또한 to_replay.config 에 Checkpoint_id등이 있어서 내용 변경도 가능 \n",
    "graph.get_state(config).values[\"messages\"]"
   ]
  },
  {
   "cell_type": "code",
   "execution_count": 12,
   "metadata": {},
   "outputs": [
    {
     "data": {
      "image/png": "[encoded data removed]",
      "text/plain": [
       "<IPython.core.display.Image object>"
      ]
     },
     "metadata": {},
     "output_type": "display_data"
    }
   ],
   "source": [
    "from IPython.display import Image, display\n",
    "\n",
    "try:\n",
    "    display(Image(graph.get_graph().draw_mermaid_png()))\n",
    "except Exception:\n",
    "    # This requires some extra dependencies and is optional\n",
    "    pass"
   ]
  }
 ],
 "metadata": {
  "kernelspec": {
   "display_name": "TheSecond",
   "language": "python",
   "name": "thesecond"
  },
  "language_info": {
   "codemirror_mode": {
    "name": "ipython",
    "version": 3
   },
   "file_extension": ".py",
   "mimetype": "text/x-python",
   "name": "python",
   "nbconvert_exporter": "python",
   "pygments_lexer": "ipython3",
   "version": "3.11.9"
  }
 },
 "nbformat": 4,
 "nbformat_minor": 4
}
